{
  "nbformat": 4,
  "nbformat_minor": 0,
  "metadata": {
    "colab": {
      "name": "IPL Streamlit.ipynb",
      "provenance": [],
      "authorship_tag": "ABX9TyMJbfKVTtQi8WgmMED+l87G",
      "include_colab_link": true
    },
    "kernelspec": {
      "name": "python3",
      "display_name": "Python 3"
    },
    "language_info": {
      "name": "python"
    }
  },
  "cells": [
    {
      "cell_type": "markdown",
      "metadata": {
        "id": "view-in-github",
        "colab_type": "text"
      },
      "source": [
        "<a href=\"https://colab.research.google.com/github/arpitsolanki/IPL-Prediction-Engine/blob/main/IPL_Streamlit.ipynb\" target=\"_parent\"><img src=\"https://colab.research.google.com/assets/colab-badge.svg\" alt=\"Open In Colab\"/></a>"
      ]
    },
    {
      "cell_type": "code",
      "metadata": {
        "colab": {
          "base_uri": "https://localhost:8080/"
        },
        "id": "Vc_Sn9HPupYP",
        "outputId": "1413cb58-10fe-4b2a-de2c-17aae4d409a0"
      },
      "source": [
        "!pip install streamlit -q"
      ],
      "execution_count": 1,
      "outputs": [
        {
          "output_type": "stream",
          "text": [
            "\u001b[K     |████████████████████████████████| 8.2MB 6.1MB/s \n",
            "\u001b[K     |████████████████████████████████| 81kB 6.5MB/s \n",
            "\u001b[K     |████████████████████████████████| 4.2MB 50.6MB/s \n",
            "\u001b[K     |████████████████████████████████| 163kB 47.2MB/s \n",
            "\u001b[K     |████████████████████████████████| 112kB 50.0MB/s \n",
            "\u001b[K     |████████████████████████████████| 122kB 42.4MB/s \n",
            "\u001b[K     |████████████████████████████████| 71kB 5.3MB/s \n",
            "\u001b[?25h  Building wheel for blinker (setup.py) ... \u001b[?25l\u001b[?25hdone\n",
            "\u001b[31mERROR: google-colab 1.0.0 has requirement ipykernel~=4.10, but you'll have ipykernel 5.5.3 which is incompatible.\u001b[0m\n"
          ],
          "name": "stdout"
        }
      ]
    },
    {
      "cell_type": "code",
      "metadata": {
        "colab": {
          "base_uri": "https://localhost:8080/"
        },
        "id": "wYibdAFYvh6O",
        "outputId": "86aa567c-8fa2-44ae-a4d5-cd4867455168"
      },
      "source": [
        "%%writefile app.py\n",
        "import streamlit as st\n",
        "import pandas as pd\n",
        "from skimage import io\n",
        "import matplotlib.pyplot as plt\n",
        "import plotly.graph_objects as go\n",
        "\n",
        "def main():\n",
        "  st.title(\"IPL Prediction Engine \")\n",
        "  st.markdown(\"This application uses detailed match by match data available at cricsheet.org to create a model & generate predictions for IPL matches.\")\n",
        "  st.subheader('MATCH OF THE DAY')\n",
        "  data=pd.read_csv('https://raw.githubusercontent.com/arpitsolanki/IPL-Prediction-Engine/main/final_output.csv')\n",
        "  gw_list=data['date'].unique().tolist()\n",
        "  menu=gw_list\n",
        "  choice = st.sidebar.selectbox('Game Date',menu)  \n",
        "  data_fil=data.loc[data.date==choice]\n",
        "  data_fil=data_fil.reset_index(drop=True)\n",
        "#  st.write(data_fil)\n",
        "\n",
        "  for i in range(data_fil.shape[0]):\n",
        "    team_x=data_fil.loc[i,'team_name_x']\n",
        "    team_y=data_fil.loc[i,'team_name_y']\n",
        "\n",
        "    team_x=team_x.replace(\" \",'%20')\n",
        "    team_y=team_y.replace(\" \",'%20')\n",
        "    \n",
        "    pred_x=data_fil.loc[i,'pred_team_x']\n",
        "    pred_y=data_fil.loc[i,'pred_team_y']\n",
        "    \n",
        "    col= st.beta_columns(2)\n",
        "\n",
        "    img_path='https://raw.githubusercontent.com/arpitsolanki/IPL-Prediction-Engine/main/Logos/'+team_x+'.jpg'\n",
        "    img=io.imread(img_path)  \n",
        "    img_path='https://raw.githubusercontent.com/arpitsolanki/IPL-Prediction-Engine/main/Logos/'+team_y+'.jpg'\n",
        "    img1=io.imread(img_path)  \n",
        "    \n",
        "    col[0].image(img,width=250)\n",
        "    col[1].image(img1,width=250)\n",
        "    \n",
        "    var=\"VENUE\"\n",
        "    st.markdown(\"<h3 style='text-align: center; color: black;'>\"+var+\"</h3>\", unsafe_allow_html=True)\n",
        "\n",
        "    var=data_fil.loc[i,'venue']\n",
        "    st.markdown(\"<h4 style='text-align: center; color: black;'>\"+var+\"</h4>\", unsafe_allow_html=True)\n",
        "\n",
        "    var=\"WIN PROBABILITY\"\n",
        "    st.markdown(\"<h3 style='text-align: center; color: black;'>\"+var+\"</h3>\", unsafe_allow_html=True)\n",
        "\n",
        "  #  st.subheader('WIN PROBABILITY')\n",
        "    col= st.beta_columns((1,2,1,2))\n",
        "    col[1].header(\"{0:.0%}\".format(pred_x))\n",
        "    col[3].header(\"{0:.0%}\".format(pred_y))\n",
        "\n",
        "    var=\"WINNING TEAM\"\n",
        "    st.markdown(\"<h3 style='text-align: center; color: black;'>\"+var+\"</h3>\", unsafe_allow_html=True)\n",
        "\n",
        "    var=data_fil.loc[i,'winning_team']\n",
        "    st.markdown(\"<h4 style='text-align: center; color: black;'>\"+var+\"</h4>\", unsafe_allow_html=True)\n",
        "\n",
        "    \n",
        "if __name__ == '__main__':\n",
        "\tmain()"
      ],
      "execution_count": 70,
      "outputs": [
        {
          "output_type": "stream",
          "text": [
            "Overwriting app.py\n"
          ],
          "name": "stdout"
        }
      ]
    },
    {
      "cell_type": "code",
      "metadata": {
        "colab": {
          "base_uri": "https://localhost:8080/"
        },
        "id": "AbSfPkz-snYE",
        "outputId": "a185c63e-6397-42b5-cc4d-9a64b6c2fe25"
      },
      "source": [
        "#!pip install streamlit\n",
        "!npm install localtunnel\n",
        "!streamlit run app.py &>/dev/null&\n",
        "!npx localtunnel --port 8501"
      ],
      "execution_count": 1,
      "outputs": [
        {
          "output_type": "stream",
          "text": [
            "\u001b[K\u001b[?25h\u001b[37;40mnpm\u001b[0m \u001b[0m\u001b[30;43mWARN\u001b[0m \u001b[0m\u001b[35msaveError\u001b[0m ENOENT: no such file or directory, open '/content/package.json'\n",
            "\u001b[0m\u001b[37;40mnpm\u001b[0m \u001b[0m\u001b[34;40mnotice\u001b[0m\u001b[35m\u001b[0m created a lockfile as package-lock.json. You should commit this file.\n",
            "\u001b[0m\u001b[37;40mnpm\u001b[0m \u001b[0m\u001b[30;43mWARN\u001b[0m \u001b[0m\u001b[35menoent\u001b[0m ENOENT: no such file or directory, open '/content/package.json'\n",
            "\u001b[0m\u001b[37;40mnpm\u001b[0m \u001b[0m\u001b[30;43mWARN\u001b[0m\u001b[35m\u001b[0m content No description\n",
            "\u001b[0m\u001b[37;40mnpm\u001b[0m \u001b[0m\u001b[30;43mWARN\u001b[0m\u001b[35m\u001b[0m content No repository field.\n",
            "\u001b[0m\u001b[37;40mnpm\u001b[0m \u001b[0m\u001b[30;43mWARN\u001b[0m\u001b[35m\u001b[0m content No README data\n",
            "\u001b[0m\u001b[37;40mnpm\u001b[0m \u001b[0m\u001b[30;43mWARN\u001b[0m\u001b[35m\u001b[0m content No license field.\n",
            "\u001b[0m\n",
            "\u001b[K\u001b[?25h+ localtunnel@2.0.1\n",
            "added 22 packages from 22 contributors and audited 22 packages in 2.151s\n",
            "\n",
            "3 packages are looking for funding\n",
            "  run `npm fund` for details\n",
            "\n",
            "found \u001b[92m0\u001b[0m vulnerabilities\n",
            "\n",
            "\u001b[K\u001b[?25hnpx: installed 22 in 1.921s\n",
            "your url is: https://great-chipmunk-34.loca.lt\n",
            "^C\n"
          ],
          "name": "stdout"
        }
      ]
    }
  ]
}